{
 "cells": [
  {
   "cell_type": "code",
   "execution_count": null,
   "id": "96085774-2933-40a8-94ef-85e841f5025b",
   "metadata": {},
   "outputs": [],
   "source": [
    "import os\n",
    "import sys\n",
    "sys.path.insert(1, os.path.abspath(os.path.join(os.getcwd(), os.pardir)))\n",
    "\n",
    "import numpy as np\n",
    "import pandas as pd\n",
    "\n",
    "from fairness_metrics.fairness_metrics import di_sliding_window, tpr_sliding_window, tnr_sliding_window\n",
    "from fairness_metrics.fairness_metrics import di_threshold, tpr_threshold, tnr_threshold\n",
    "\n",
    "from fairness_metrics.fairness_metrics_visualization import plot_di_sliding_window, plot_eo_sliding_window\n",
    "from fairness_metrics.fairness_metrics_visualization import plot_di_threshold, plot_eo_threshold"
   ]
  },
  {
   "cell_type": "code",
   "execution_count": null,
   "id": "696a4720-d514-473e-87c6-c69c4a5275c6",
   "metadata": {},
   "outputs": [],
   "source": [
    "data_root = '/home/veronika_shilova/CelebA_Lab/DATA_celebA_female'\n",
    "\n",
    "df_train_celeba = pd.read_csv(os.path.join(data_root, 'female_train.csv'))\n",
    "L_train = df_train_celeba['L'].values\n",
    "y_train = 1*(df_train_celeba['Attractive'].values)\n",
    "\n",
    "y_pred = np.load(os.path.join(data_root, 'y_pred_train_aggregated.npy'))"
   ]
  },
  {
   "cell_type": "code",
   "execution_count": null,
   "id": "e32f3993-8bd5-4bdc-83a8-b6523d95f221",
   "metadata": {},
   "outputs": [],
   "source": [
    "window_size = 5\n",
    "\n",
    "di_sw, L_grid_sw = di_sliding_window(y_train, L_train, window_size=window_size)\n",
    "di_pred_sw, L_grid_sw = di_sliding_window(y_pred[0], L_train, window_size=window_size)"
   ]
  },
  {
   "cell_type": "code",
   "execution_count": null,
   "id": "e8d5c53b-36e5-4b98-8ac1-2b9f2b028e0d",
   "metadata": {},
   "outputs": [],
   "source": [
    "plot_di_sliding_window(di_sw, di_pred_sw, L_grid_sw, \n",
    "                       window_size=window_size, \n",
    "                       sensitive_var_name='L', \n",
    "                       dataset_name='CelebA', \n",
    "                       target_name='Ground truth', \n",
    "                       pred_target_name='ResNet18')"
   ]
  },
  {
   "cell_type": "code",
   "execution_count": null,
   "id": "1c809db2-7519-47a4-8794-7b22c437ab8e",
   "metadata": {},
   "outputs": [],
   "source": [
    "di_thr, L_grid_thr = di_threshold(y_train, L_train)\n",
    "di_pred_thr, L_grid_thr = di_threshold(y_pred[0], L_train)"
   ]
  },
  {
   "cell_type": "code",
   "execution_count": null,
   "id": "486df604-0b19-47b0-9e2e-c364f99e4659",
   "metadata": {},
   "outputs": [],
   "source": [
    "plot_di_threshold(di_thr, di_pred_thr, L_grid_thr,\n",
    "                  sensitive_var_name='L', \n",
    "                  dataset_name='CelebA', \n",
    "                  target_name='Ground truth', \n",
    "                  pred_target_name='ResNet18')"
   ]
  },
  {
   "cell_type": "code",
   "execution_count": null,
   "id": "649987d5-8a10-4b7e-8b60-d6061ad8edcb",
   "metadata": {},
   "outputs": [],
   "source": []
  }
 ],
 "metadata": {
  "kernelspec": {
   "display_name": "robustness-env",
   "language": "python",
   "name": "robustness-env"
  },
  "language_info": {
   "codemirror_mode": {
    "name": "ipython",
    "version": 3
   },
   "file_extension": ".py",
   "mimetype": "text/x-python",
   "name": "python",
   "nbconvert_exporter": "python",
   "pygments_lexer": "ipython3",
   "version": "3.10.12"
  }
 },
 "nbformat": 4,
 "nbformat_minor": 5
}
